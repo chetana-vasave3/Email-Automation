{
 "cells": [
  {
   "cell_type": "code",
   "execution_count": 3,
   "id": "6090fb83-d047-41cd-86a1-65f2f8c88041",
   "metadata": {},
   "outputs": [
    {
     "name": "stdout",
     "output_type": "stream",
     "text": [
      "Emails sent successfully!\n"
     ]
    }
   ],
   "source": [
    "import pandas as pd\n",
    "import smtplib\n",
    "import ssl\n",
    "from email.message import EmailMessage\n",
    "\n",
    "# Load data from the Excel file\n",
    "data = pd.read_excel(\"absent_students_data.xlsx\")  # Ensure the file exists and contains the 'Email Id' column\n",
    "\n",
    "# Email credentials\n",
    "host = 'smtp.gmail.com'\n",
    "port = 465\n",
    "sender_email = \"chetanavasave34@gmail.com\"\n",
    "sender_password = \"wivr gazp imuc yprx\"  # Use your app password here\n",
    "\n",
    "# Create SSL context\n",
    "context = ssl.create_default_context()\n",
    "\n",
    "# Iterate through the DataFrame rows\n",
    "for index, row in data.iterrows():\n",
    "    receiver_email = row['Email Id']  # Fetch recipient email\n",
    "    name = row['Name']                # Fetch recipient name (optional, for personalization)\n",
    "    topics = row['Todays Topic']      # Fetch today's topics (optional, for personalization)\n",
    "    id=row[\"Roll No\"]\n",
    "    # print(receiver_email)\n",
    "    # print(name)\n",
    "    # print(topics)\n",
    "    # print(id)\n",
    "\n",
    "    # Create email content\n",
    "    em = EmailMessage()\n",
    "    em['From'] = sender_email\n",
    "    em['To'] = receiver_email\n",
    "    em['Subject'] = \"Attendance Notification\"\n",
    "    em.set_content(f\"\"\"\n",
    "    Dear {name},{id}\n",
    "\n",
    "    You were absent today. Topics covered:\n",
    "    {topics}\n",
    "\n",
    "    Please ensure you review the materials to catch up.\n",
    "\n",
    "    Regards,\n",
    "    Your Institute\n",
    "    \"\"\")\n",
    "\n",
    "    # Connect to the server and send the email\n",
    "    with smtplib.SMTP_SSL(host, port, context=context) as smtp:\n",
    "        smtp.login(sender_email, sender_password)\n",
    "        smtp.send_message(em)\n",
    "\n",
    "print(\"Emails sent successfully!\")\n"
   ]
  },
  {
   "cell_type": "code",
   "execution_count": null,
   "id": "85a4607a-30c3-4cad-89f6-f6294ee1cf1e",
   "metadata": {},
   "outputs": [],
   "source": []
  }
 ],
 "metadata": {
  "kernelspec": {
   "display_name": "Python 3 (ipykernel)",
   "language": "python",
   "name": "python3"
  },
  "language_info": {
   "codemirror_mode": {
    "name": "ipython",
    "version": 3
   },
   "file_extension": ".py",
   "mimetype": "text/x-python",
   "name": "python",
   "nbconvert_exporter": "python",
   "pygments_lexer": "ipython3",
   "version": "3.11.7"
  }
 },
 "nbformat": 4,
 "nbformat_minor": 5
}
